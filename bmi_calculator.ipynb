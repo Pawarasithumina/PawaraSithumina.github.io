{
 "cells": [
  {
   "cell_type": "markdown",
   "id": "8d028cd1-9e36-4ac2-9134-d045733f56fb",
   "metadata": {},
   "source": [
    "# BMI Calculator"
   ]
  },
  {
   "cell_type": "code",
   "execution_count": 8,
   "id": "c328e40f-c85f-4a83-9a13-2cda09f29d54",
   "metadata": {},
   "outputs": [
    {
     "name": "stdin",
     "output_type": "stream",
     "text": [
      "Enter your name:  pawara\n",
      "What is your weight in pounds:  170\n",
      "What is your height in inches:  70\n"
     ]
    },
    {
     "name": "stdout",
     "output_type": "stream",
     "text": [
      "24.389795918367348\n"
     ]
    }
   ],
   "source": [
    "name = input(\"Enter your name: \")\n",
    "\n",
    "\n",
    "Weight = int(input(\"What is your weight in pounds: \"))\n",
    "\n",
    "Height = int(input(\"What is your height in inches: \"))\n",
    "\n",
    "\n",
    "BMI = (Weight * 703 ) /( Height * Height)\n",
    "\n",
    "print(BMI)\n",
    "\n",
    "\n",
    "if BMI>0:\n",
    "    if(BMI <18.5):\n",
    "        print(name +\",You are underweight.\")\n",
    "    elif(BMI <=24.9):\n",
    "        print(name +\",You are Normal weight.\")\n",
    "    elif(BMI <29.9):\n",
    "        print(name +\",You are overweight.\")\n",
    "    elif(BMI <34.9):\n",
    "        print(name +\",You are obese.\")\n",
    "    elif(BMI <39.9):\n",
    "        print(name +\",You are severely obese.\")\n",
    "    else:\n",
    "        print(name +\",You are morbidly obese\")\n",
    "else:\n",
    "    print(\"Enter valid Input\")\n"
   ]
  }
 ],
 "metadata": {
  "kernelspec": {
   "display_name": "Python 3 (ipykernel)",
   "language": "python",
   "name": "python3"
  },
  "language_info": {
   "codemirror_mode": {
    "name": "ipython",
    "version": 3
   },
   "file_extension": ".py",
   "mimetype": "text/x-python",
   "name": "python",
   "nbconvert_exporter": "python",
   "pygments_lexer": "ipython3",
   "version": "3.9.24"
  }
 },
 "nbformat": 4,
 "nbformat_minor": 5
}
