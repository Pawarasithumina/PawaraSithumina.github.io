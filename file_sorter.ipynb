{
 "cells": [
  {
   "cell_type": "markdown",
   "id": "f9ed8783-0803-4ee9-926d-6b8f95f550c1",
   "metadata": {},
   "source": [
    "## Automatic File Sorter in File Explorer"
   ]
  },
  {
   "cell_type": "code",
   "execution_count": 24,
   "id": "8db9d079-047c-4d68-945e-c71e9ad4371e",
   "metadata": {},
   "outputs": [],
   "source": [
    "import os, shutil"
   ]
  },
  {
   "cell_type": "code",
   "execution_count": 25,
   "id": "68ef84f3-ec82-421b-b37d-8eb1838114c3",
   "metadata": {},
   "outputs": [],
   "source": [
    "path = r\"D:/Users/Admin/Documents/sample_files/\""
   ]
  },
  {
   "cell_type": "code",
   "execution_count": 26,
   "id": "d4fc5fef-78be-4f23-9ecc-7a610b0b8b9d",
   "metadata": {},
   "outputs": [],
   "source": [
    "file_name = os.listdir(path)"
   ]
  },
  {
   "cell_type": "code",
   "execution_count": 27,
   "id": "fd158682-c6f2-459f-81a5-08766a8b6858",
   "metadata": {},
   "outputs": [
    {
     "name": "stdout",
     "output_type": "stream",
     "text": [
      "D:/Users/Admin/Documents/sample_files/csv files\n",
      "D:/Users/Admin/Documents/sample_files/image files\n",
      "D:/Users/Admin/Documents/sample_files/text files\n"
     ]
    }
   ],
   "source": [
    "folder_names = ['csv files', 'image files', 'text files']\n",
    "\n",
    "for loop in range(0,3):\n",
    "    if not os.path.exists(path + folder_names[loop]):\n",
    "        print(path + folder_names[loop])\n",
    "        os.makedirs((path + folder_names[loop]))\n",
    "\n",
    "for file in file_name:\n",
    "    if \".csv\" in file and not os.path.exists(path + \"csv files/\" + file):\n",
    "        shutil.move(path + file, path + \"csv files/\" + file)\n",
    "    elif \".png\" in file and not os.path.exists(path + \"image files/\" + file):\n",
    "        shutil.move(path + file, path + \"image files/\" + file)\n",
    "    elif \".txt\" in file and not os.path.exists(path + \"text files/\" + file):\n",
    "        shutil.move(path + file, path + \"text files/\" + file)"
   ]
  },
  {
   "cell_type": "code",
   "execution_count": null,
   "id": "7674c4fa-21f0-4204-a3d8-b49e4c2bd5d9",
   "metadata": {},
   "outputs": [],
   "source": []
  }
 ],
 "metadata": {
  "kernelspec": {
   "display_name": "Python 3 (ipykernel)",
   "language": "python",
   "name": "python3"
  },
  "language_info": {
   "codemirror_mode": {
    "name": "ipython",
    "version": 3
   },
   "file_extension": ".py",
   "mimetype": "text/x-python",
   "name": "python",
   "nbconvert_exporter": "python",
   "pygments_lexer": "ipython3",
   "version": "3.9.24"
  }
 },
 "nbformat": 4,
 "nbformat_minor": 5
}
